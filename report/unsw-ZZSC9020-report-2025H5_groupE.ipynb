{
 "cells": [
  {
   "cell_type": "markdown",
   "id": "18c51dc3",
   "metadata": {},
   "source": [
    "A Data Science Approach to Forecast Electricity Consumption in Australia\n",
    "Arturo Ronda (z5342043), \n",
    "Kelly Xu (z5214516), \n",
    "Rahel Legesse (z5492537), \n",
    "Shaun Stephenson (z5608969).\n",
    "\n",
    "01/10/2025\n"
   ]
  },
  {
   "cell_type": "markdown",
   "id": "f5d6e486",
   "metadata": {},
   "source": [
    "Table of Contents\n"
   ]
  },
  {
   "cell_type": "markdown",
   "id": "fc2753d1",
   "metadata": {},
   "source": [
    "Abstract\n"
   ]
  },
  {
   "cell_type": "markdown",
   "id": "360f5b06",
   "metadata": {},
   "source": [
    "Introduction\n",
    "\n"
   ]
  },
  {
   "cell_type": "markdown",
   "id": "58b2a0e6",
   "metadata": {},
   "source": [
    "Literature Review\n",
    "\n"
   ]
  },
  {
   "cell_type": "markdown",
   "id": "00a5e41d",
   "metadata": {},
   "source": [
    "Material and methods (software, description of data, pre-processing, assumptions and modelling methods)\n",
    "Software\n",
    "\n",
    "\n",
    "Data Description\n",
    "\n",
    "\n",
    "Pre-processing\n",
    "\n",
    "\n",
    "Assumptions\n",
    "\n",
    "\n",
    "Modelling Methods\n",
    "\n",
    "\n"
   ]
  },
  {
   "cell_type": "markdown",
   "id": "d007ec6d",
   "metadata": {},
   "source": [
    "Exploratory data analysis (EDA)\n"
   ]
  },
  {
   "cell_type": "code",
   "execution_count": null,
   "id": "65c1623b",
   "metadata": {},
   "outputs": [],
   "source": [
    "## EDA"
   ]
  },
  {
   "cell_type": "markdown",
   "id": "292be277",
   "metadata": {},
   "source": [
    "Analysis of Results"
   ]
  },
  {
   "cell_type": "code",
   "execution_count": null,
   "id": "be20b0b6",
   "metadata": {},
   "outputs": [],
   "source": [
    "## Analysis\n"
   ]
  },
  {
   "cell_type": "markdown",
   "id": "5d319b69",
   "metadata": {},
   "source": [
    "Discussion, conclusion, and further issues"
   ]
  },
  {
   "cell_type": "code",
   "execution_count": null,
   "id": "8a769a7b",
   "metadata": {},
   "outputs": [],
   "source": []
  }
 ],
 "metadata": {
  "language_info": {
   "name": "python"
  }
 },
 "nbformat": 4,
 "nbformat_minor": 5
}
